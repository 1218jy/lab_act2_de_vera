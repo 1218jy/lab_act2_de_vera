{
 "cells": [
  {
   "cell_type": "code",
   "execution_count": 1,
   "id": "267ba733-220f-4454-b858-62c45601584b",
   "metadata": {},
   "outputs": [
    {
     "name": "stdin",
     "output_type": "stream",
     "text": [
      "What is the base? 12\n",
      "What is the exponent? 23\n"
     ]
    },
    {
     "name": "stdout",
     "output_type": "stream",
     "text": [
      "12^23 = 6624737266949237011120128\n"
     ]
    }
   ],
   "source": [
    "## DE VERA, JAY DARREL M. BSCPE 2-3 DSA LAB ACT 2\n",
    "## Lab exercise 1\n",
    "\n",
    "#A teacher named Mrs. Rivera who loved making math fun for her students. One day, a student \n",
    "#named Mia asked how to calculate powers, like (2^7). Mrs. Rivera explained, “Imagine you need \n",
    "#to multiply 2 by itself seven times. We can solve this using a python code utilizing special \n",
    "#method called recursion to solve this,”\n",
    "#Can you help the class of Mrs. Rivera by providing the recursive method to calculate powers?\n",
    "\n",
    "def recursive_exponent(base, exponent):\n",
    "    if exponent == 0:\n",
    "        return 1\n",
    "\n",
    "    elif exponent < 0:\n",
    "        return 1 / recursive_exponent(base, -exponent)\n",
    "\n",
    "    else:\n",
    "        return base * recursive_exponent(base, exponent - 1)\n",
    "\n",
    "base = int(input('What is the base?'))\n",
    "exponent = int(input('What is the exponent?'))\n",
    "result = recursive_exponent(base, exponent)\n",
    "print(f\"{base}^{exponent} = {result}\")"
   ]
  },
  {
   "cell_type": "code",
   "execution_count": null,
   "id": "56c437f1-9e9c-450a-8bb1-731d613e7400",
   "metadata": {},
   "outputs": [],
   "source": [
    "## Lab exercise 2\n",
    "\n",
    "list1 = [1, 2, 3]\n",
    "list2 = [\"mark\", \"alice\", \"john\"]\n",
    "\n",
    "listOfTuple = [(x, y) for x, y in zip(list1, list2)]\n",
    "\n",
    "print(listOfTuple)\n"
   ]
  },
  {
   "cell_type": "code",
   "execution_count": null,
   "id": "9a52ad3f-369a-458d-adc1-43741fd6496c",
   "metadata": {},
   "outputs": [],
   "source": [
    "## Lab 2 Exercise 3\n",
    "## Generate a hollow square based on the + integer input side length n.\n",
    "\n",
    "# Get user input for the side length\n",
    "\n",
    "n = int(input(\"Enter the side length of the square: \"))\n",
    "\n",
    "for i in range(n):\n",
    "    if i == 0 or i == n - 1:\n",
    "        print(\"x\" * n)\n",
    "    else:\n",
    "        print(\"x\" + \" \" * (n - 2) + \"x\")"
   ]
  },
  {
   "cell_type": "code",
   "execution_count": null,
   "id": "65ed81f0-1803-4e78-9254-4dda2b00c49c",
   "metadata": {},
   "outputs": [],
   "source": [
    "#Lab 2 Exercise 4\n",
    "#Generate an inverted right triangle of height n.\n",
    "\n",
    "\n",
    "height = int(input(\"Enter the height of the triangle: \"))\n",
    "\n",
    "for i in range(height, 0, -1):\n",
    "    print('*' * i)"
   ]
  }
 ],
 "metadata": {
  "kernelspec": {
   "display_name": "Python 3 (ipykernel)",
   "language": "python",
   "name": "python3"
  },
  "language_info": {
   "codemirror_mode": {
    "name": "ipython",
    "version": 3
   },
   "file_extension": ".py",
   "mimetype": "text/x-python",
   "name": "python",
   "nbconvert_exporter": "python",
   "pygments_lexer": "ipython3",
   "version": "3.12.6"
  }
 },
 "nbformat": 4,
 "nbformat_minor": 5
}
